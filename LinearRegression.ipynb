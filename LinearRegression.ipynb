{
 "cells": [
  {
   "cell_type": "code",
   "execution_count": 15,
   "metadata": {
    "collapsed": true
   },
   "outputs": [],
   "source": [
    "import matplotlib.pyplot as plt\n",
    "import numpy as np\n",
    "import pandas as pd\n",
    "%matplotlib inline\n"
   ]
  },
  {
   "cell_type": "code",
   "execution_count": 16,
   "metadata": {
    "collapsed": false
   },
   "outputs": [
    {
     "data": {
      "text/html": [
       "<div>\n",
       "<style scoped>\n",
       "    .dataframe tbody tr th:only-of-type {\n",
       "        vertical-align: middle;\n",
       "    }\n",
       "\n",
       "    .dataframe tbody tr th {\n",
       "        vertical-align: top;\n",
       "    }\n",
       "\n",
       "    .dataframe thead th {\n",
       "        text-align: right;\n",
       "    }\n",
       "</style>\n",
       "<table border=\"1\" class=\"dataframe\">\n",
       "  <thead>\n",
       "    <tr style=\"text-align: right;\">\n",
       "      <th></th>\n",
       "      <th>high_GPA</th>\n",
       "      <th>math_SAT</th>\n",
       "      <th>verb_SAT</th>\n",
       "      <th>comp_GPA</th>\n",
       "      <th>univ_GPA</th>\n",
       "    </tr>\n",
       "  </thead>\n",
       "  <tbody>\n",
       "    <tr>\n",
       "      <th>0</th>\n",
       "      <td>3.45</td>\n",
       "      <td>643</td>\n",
       "      <td>589</td>\n",
       "      <td>3.76</td>\n",
       "      <td>3.52</td>\n",
       "    </tr>\n",
       "    <tr>\n",
       "      <th>1</th>\n",
       "      <td>2.78</td>\n",
       "      <td>558</td>\n",
       "      <td>512</td>\n",
       "      <td>2.87</td>\n",
       "      <td>2.91</td>\n",
       "    </tr>\n",
       "    <tr>\n",
       "      <th>2</th>\n",
       "      <td>2.52</td>\n",
       "      <td>583</td>\n",
       "      <td>503</td>\n",
       "      <td>2.54</td>\n",
       "      <td>2.40</td>\n",
       "    </tr>\n",
       "    <tr>\n",
       "      <th>3</th>\n",
       "      <td>3.67</td>\n",
       "      <td>685</td>\n",
       "      <td>602</td>\n",
       "      <td>3.83</td>\n",
       "      <td>3.47</td>\n",
       "    </tr>\n",
       "    <tr>\n",
       "      <th>4</th>\n",
       "      <td>3.24</td>\n",
       "      <td>592</td>\n",
       "      <td>538</td>\n",
       "      <td>3.29</td>\n",
       "      <td>3.47</td>\n",
       "    </tr>\n",
       "  </tbody>\n",
       "</table>\n",
       "</div>"
      ],
      "text/plain": [
       "   high_GPA  math_SAT  verb_SAT  comp_GPA  univ_GPA\n",
       "0      3.45       643       589      3.76      3.52\n",
       "1      2.78       558       512      2.87      2.91\n",
       "2      2.52       583       503      2.54      2.40\n",
       "3      3.67       685       602      3.83      3.47\n",
       "4      3.24       592       538      3.29      3.47"
      ]
     },
     "execution_count": 16,
     "metadata": {},
     "output_type": "execute_result"
    }
   ],
   "source": [
    "df=pd.read_csv(\"sat1.csv\")\n",
    "df.head()"
   ]
  },
  {
   "cell_type": "code",
   "execution_count": 17,
   "metadata": {
    "collapsed": false
   },
   "outputs": [
    {
     "name": "stdout",
     "output_type": "stream",
     "text": [
      "     high_GPA  univ_GPA\n",
      "0        3.45      3.52\n",
      "1        2.78      2.91\n",
      "2        2.52      2.40\n",
      "3        3.67      3.47\n",
      "4        3.24      3.47\n",
      "5        2.10      2.37\n",
      "6        2.82      2.40\n",
      "7        2.36      2.24\n",
      "8        2.42      3.02\n",
      "9        3.51      3.32\n",
      "10       3.48      3.59\n",
      "11       2.14      2.54\n",
      "12       2.59      3.19\n",
      "13       3.46      3.71\n",
      "14       3.51      3.58\n",
      "15       3.68      3.40\n",
      "16       3.91      3.73\n",
      "17       3.72      3.49\n",
      "18       2.15      2.25\n",
      "19       2.48      2.37\n",
      "20       3.09      3.29\n",
      "21       2.71      3.19\n",
      "22       2.46      3.28\n",
      "23       3.32      3.37\n",
      "24       3.61      3.61\n",
      "25       3.82      3.81\n",
      "26       2.64      2.40\n",
      "27       2.19      2.21\n",
      "28       3.34      3.58\n",
      "29       3.48      3.51\n",
      "..        ...       ...\n",
      "75       3.62      3.51\n",
      "76       2.92      3.17\n",
      "77       2.81      3.20\n",
      "78       3.11      3.41\n",
      "79       3.28      3.29\n",
      "80       2.70      3.17\n",
      "81       2.62      3.12\n",
      "82       3.72      3.71\n",
      "83       3.42      3.50\n",
      "84       3.51      3.34\n",
      "85       3.28      3.48\n",
      "86       3.42      3.44\n",
      "87       3.90      3.59\n",
      "88       3.12      3.28\n",
      "89       2.83      3.00\n",
      "90       2.09      3.42\n",
      "91       3.17      3.41\n",
      "92       3.28      3.49\n",
      "93       3.02      3.28\n",
      "94       3.42      3.17\n",
      "95       3.06      3.24\n",
      "96       2.76      2.34\n",
      "97       3.19      3.28\n",
      "98       2.23      2.29\n",
      "99       2.48      2.08\n",
      "100      3.76      3.64\n",
      "101      3.49      3.42\n",
      "102      3.07      3.25\n",
      "103      2.19      2.76\n",
      "104      3.46      3.41\n",
      "\n",
      "[105 rows x 2 columns]\n"
     ]
    }
   ],
   "source": [
    "x=df['high_GPA']\n",
    "y=df['univ_GPA']\n",
    "cd=df[['high_GPA','univ_GPA']]\n",
    "print(cd)"
   ]
  },
  {
   "cell_type": "code",
   "execution_count": 18,
   "metadata": {
    "collapsed": false
   },
   "outputs": [
    {
     "data": {
      "text/plain": [
       "[]"
      ]
     },
     "execution_count": 18,
     "metadata": {},
     "output_type": "execute_result"
    },
    {
     "data": {
      "image/png": "[encoded data removed]",
      "text/plain": [
       "<Figure size 432x288 with 2 Axes>"
      ]
     },
     "metadata": {
      "needs_background": "light"
     },
     "output_type": "display_data"
    }
   ],
   "source": [
    "cd.hist()\n",
    "plt.plot()"
   ]
  },
  {
   "cell_type": "code",
   "execution_count": 19,
   "metadata": {
    "collapsed": false
   },
   "outputs": [
    {
     "data": {
      "text/plain": [
       "[]"
      ]
     },
     "execution_count": 19,
     "metadata": {},
     "output_type": "execute_result"
    },
    {
     "data": {
      "image/png": "[encoded data removed]",
      "text/plain": [
       "<Figure size 432x288 with 1 Axes>"
      ]
     },
     "metadata": {
      "needs_background": "light"
     },
     "output_type": "display_data"
    }
   ],
   "source": [
    "plt.scatter(x,y,color='r')\n",
    "\n",
    "plt.xlabel(\"high_GPA\")\n",
    "plt.ylabel(\"univ_GPA\")\n",
    "plt.legend(['high_GPA','univ_GPA'],loc=1)\n",
    "plt.plot()"
   ]
  },
  {
   "cell_type": "code",
   "execution_count": 20,
   "metadata": {
    "collapsed": false
   },
   "outputs": [
    {
     "data": {
      "text/plain": [
       "0     3.45\n",
       "1     2.78\n",
       "10    3.48\n",
       "11    2.14\n",
       "14    3.51\n",
       "15    3.68\n",
       "18    2.15\n",
       "43    2.83\n",
       "49    3.34\n",
       "54    2.24\n",
       "60    2.67\n",
       "61    3.24\n",
       "63    3.87\n",
       "68    3.29\n",
       "69    3.41\n",
       "77    2.81\n",
       "87    3.90\n",
       "89    2.83\n",
       "97    3.19\n",
       "Name: high_GPA, dtype: float64"
      ]
     },
     "execution_count": 20,
     "metadata": {},
     "output_type": "execute_result"
    }
   ],
   "source": [
    "ms=np.random.rand(len(df))<0.8\n",
    "train=cd[ms]\n",
    "test=cd[~ms]\n",
    "test.high_GPA"
   ]
  },
  {
   "cell_type": "code",
   "execution_count": 21,
   "metadata": {
    "collapsed": false
   },
   "outputs": [
    {
     "data": {
      "image/png": "[encoded data removed]",
      "text/plain": [
       "<Figure size 432x288 with 1 Axes>"
      ]
     },
     "metadata": {
      "needs_background": "light"
     },
     "output_type": "display_data"
    }
   ],
   "source": [
    "plt.scatter(train.high_GPA,train.univ_GPA,color='red')\n",
    "plt.xlabel(\"high_GPA\")\n",
    "plt.ylabel(\"univ_GPA\")\n",
    "plt.legend(['high_GPA','univ_GPA'],loc=1)\n",
    "plt.show()"
   ]
  },
  {
   "cell_type": "code",
   "execution_count": 22,
   "metadata": {
    "collapsed": false
   },
   "outputs": [
    {
     "name": "stdout",
     "output_type": "stream",
     "text": [
      "slope: [[0.69826336]]\n",
      "intercept: [1.01153299]\n"
     ]
    }
   ],
   "source": [
    "from sklearn import linear_model\n",
    "reg=linear_model.LinearRegression()\n",
    "train_x=np.asanyarray(train[['high_GPA']])\n",
    "train_y=np.asanyarray(train[['univ_GPA']])\n",
    "reg.fit(train_x,train_y)\n",
    "print('slope:',reg.coef_)\n",
    "print('intercept:',reg.intercept_)"
   ]
  },
  {
   "cell_type": "code",
   "execution_count": 23,
   "metadata": {
    "collapsed": false
   },
   "outputs": [
    {
     "data": {
      "image/png": "[encoded data removed]",
      "text/plain": [
       "<Figure size 432x288 with 1 Axes>"
      ]
     },
     "metadata": {
      "needs_background": "light"
     },
     "output_type": "display_data"
    }
   ],
   "source": [
    "plt.scatter(train_x,train_y,color='blue')\n",
    "plt.plot(train_x,reg.coef_[0][0]*train_x+reg.intercept_[0],'r-',linewidth=2)\n",
    "plt.xlabel(\"high_GPA\")\n",
    "plt.ylabel(\"univ_GPA\")\n",
    "plt.legend(['high_GPA','univ_GPA'],loc=1)\n",
    "plt.show()"
   ]
  },
  {
   "cell_type": "code",
   "execution_count": 24,
   "metadata": {
    "collapsed": false
   },
   "outputs": [
    {
     "data": {
      "image/png": "[encoded data removed]",
      "text/plain": [
       "<Figure size 432x288 with 1 Axes>"
      ]
     },
     "metadata": {
      "needs_background": "light"
     },
     "output_type": "display_data"
    }
   ],
   "source": [
    "from sklearn.metrics import r2_score\n",
    "test_x=np.asanyarray(test[['high_GPA']])\n",
    "test_y=np.asanyarray(test[['univ_GPA']])\n",
    "test_y_=reg.predict(test_x)\n",
    "plt.scatter(test_x,test_y,color='blue')\n",
    "plt.plot(test_x,test_y_,'r-',linewidth=2)\n",
    "plt.xlabel(\"high_GPA\")\n",
    "plt.ylabel(\"univ_GPA\")\n",
    "plt.legend(['high_GPA','univ_GPA'],loc=1)\n",
    "plt.show()\n"
   ]
  },
  {
   "cell_type": "code",
   "execution_count": 25,
   "metadata": {
    "collapsed": false
   },
   "outputs": [
    {
     "name": "stdout",
     "output_type": "stream",
     "text": [
      "Mean absolute error :0.15\n",
      "residual sum of square:0.04\n",
      "r2_sqauared:0.64\n",
      "score:0.61\n"
     ]
    }
   ],
   "source": [
    "print(\"Mean absolute error :%.2f\"%np.mean(np.absolute(test_y-test_y_)))\n",
    "print(\"residual sum of square:%.2f\"%np.mean((test_y-test_y_)**2))\n",
    "print(\"r2_sqauared:%.2f\"%r2_score(test_y,test_y_))\n",
    "print(\"score:%.2f\"%reg.score(test_y,test_y_))"
   ]
  },
  {
   "cell_type": "code",
   "execution_count": 28,
   "metadata": {
    "collapsed": false
   },
   "outputs": [
    {
     "name": "stdout",
     "output_type": "stream",
     "text": [
      "[0.64328605]\n"
     ]
    }
   ],
   "source": [
    "num=0\n",
    "den=0\n",
    "mean_y=np.mean(test_y)\n",
    "for i in range(len(test_y)):\n",
    "    test_y_=reg.coef_[0][0]*test_x[i]+reg.intercept_[0]\n",
    "    num+=(test_y[i]-mean_y)**2\n",
    "    den+=(test_y[i]-test_y_)**2\n",
    "cd=1-den/num\n",
    "print(cd)"
   ]
  }
 ],
 "metadata": {
  "kernelspec": {
   "display_name": "Python 3",
   "language": "python",
   "name": "python3"
  },
  "language_info": {
   "codemirror_mode": {
    "name": "ipython",
    "version": 3
   },
   "file_extension": ".py",
   "mimetype": "text/x-python",
   "name": "python",
   "nbconvert_exporter": "python",
   "pygments_lexer": "ipython3",
   "version": "3.5.2"
  },
  "widgets": {
   "state": {},
   "version": "1.1.2"
  }
 },
 "nbformat": 4,
 "nbformat_minor": 2
}
