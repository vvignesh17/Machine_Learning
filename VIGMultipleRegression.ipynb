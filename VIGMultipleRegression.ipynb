{
 "cells": [
  {
   "cell_type": "code",
   "execution_count": 2,
   "metadata": {
    "collapsed": true
   },
   "outputs": [],
   "source": [
    "import matplotlib.pyplot as plt\n",
    "import numpy as np\n",
    "import pandas as pd\n",
    "%matplotlib inline\n"
   ]
  },
  {
   "cell_type": "code",
   "execution_count": 3,
   "metadata": {
    "collapsed": false
   },
   "outputs": [
    {
     "data": {
      "text/html": [
       "<div>\n",
       "<style scoped>\n",
       "    .dataframe tbody tr th:only-of-type {\n",
       "        vertical-align: middle;\n",
       "    }\n",
       "\n",
       "    .dataframe tbody tr th {\n",
       "        vertical-align: top;\n",
       "    }\n",
       "\n",
       "    .dataframe thead th {\n",
       "        text-align: right;\n",
       "    }\n",
       "</style>\n",
       "<table border=\"1\" class=\"dataframe\">\n",
       "  <thead>\n",
       "    <tr style=\"text-align: right;\">\n",
       "      <th></th>\n",
       "      <th>high_GPA</th>\n",
       "      <th>math_SAT</th>\n",
       "      <th>verb_SAT</th>\n",
       "      <th>comp_GPA</th>\n",
       "      <th>univ_GPA</th>\n",
       "    </tr>\n",
       "  </thead>\n",
       "  <tbody>\n",
       "    <tr>\n",
       "      <th>0</th>\n",
       "      <td>3.45</td>\n",
       "      <td>643</td>\n",
       "      <td>589</td>\n",
       "      <td>3.76</td>\n",
       "      <td>3.52</td>\n",
       "    </tr>\n",
       "    <tr>\n",
       "      <th>1</th>\n",
       "      <td>2.78</td>\n",
       "      <td>558</td>\n",
       "      <td>512</td>\n",
       "      <td>2.87</td>\n",
       "      <td>2.91</td>\n",
       "    </tr>\n",
       "    <tr>\n",
       "      <th>2</th>\n",
       "      <td>2.52</td>\n",
       "      <td>583</td>\n",
       "      <td>503</td>\n",
       "      <td>2.54</td>\n",
       "      <td>2.40</td>\n",
       "    </tr>\n",
       "    <tr>\n",
       "      <th>3</th>\n",
       "      <td>3.67</td>\n",
       "      <td>685</td>\n",
       "      <td>602</td>\n",
       "      <td>3.83</td>\n",
       "      <td>3.47</td>\n",
       "    </tr>\n",
       "    <tr>\n",
       "      <th>4</th>\n",
       "      <td>3.24</td>\n",
       "      <td>592</td>\n",
       "      <td>538</td>\n",
       "      <td>3.29</td>\n",
       "      <td>3.47</td>\n",
       "    </tr>\n",
       "  </tbody>\n",
       "</table>\n",
       "</div>"
      ],
      "text/plain": [
       "   high_GPA  math_SAT  verb_SAT  comp_GPA  univ_GPA\n",
       "0      3.45       643       589      3.76      3.52\n",
       "1      2.78       558       512      2.87      2.91\n",
       "2      2.52       583       503      2.54      2.40\n",
       "3      3.67       685       602      3.83      3.47\n",
       "4      3.24       592       538      3.29      3.47"
      ]
     },
     "execution_count": 3,
     "metadata": {},
     "output_type": "execute_result"
    }
   ],
   "source": [
    "df=pd.read_csv(\"sat1.csv\")\n",
    "df.head()"
   ]
  },
  {
   "cell_type": "code",
   "execution_count": 4,
   "metadata": {
    "collapsed": false
   },
   "outputs": [
    {
     "name": "stdout",
     "output_type": "stream",
     "text": [
      "     high_GPA  univ_GPA  math_SAT  verb_SAT  comp_GPA\n",
      "0        3.45      3.52       643       589      3.76\n",
      "1        2.78      2.91       558       512      2.87\n",
      "2        2.52      2.40       583       503      2.54\n",
      "3        3.67      3.47       685       602      3.83\n",
      "4        3.24      3.47       592       538      3.29\n",
      "5        2.10      2.37       562       486      2.64\n",
      "6        2.82      2.40       573       548      2.86\n",
      "7        2.36      2.24       559       536      2.03\n",
      "8        2.42      3.02       552       583      2.81\n",
      "9        3.51      3.32       617       591      3.41\n",
      "10       3.48      3.59       684       649      3.61\n",
      "11       2.14      2.54       568       592      2.48\n",
      "12       2.59      3.19       604       582      3.21\n",
      "13       3.46      3.71       619       624      3.52\n",
      "14       3.51      3.58       642       619      3.41\n",
      "15       3.68      3.40       683       642      3.52\n",
      "16       3.91      3.73       703       684      3.84\n",
      "17       3.72      3.49       712       652      3.64\n",
      "18       2.15      2.25       564       501      2.14\n",
      "19       2.48      2.37       557       549      2.21\n",
      "20       3.09      3.29       591       584      3.17\n",
      "21       2.71      3.19       599       562      3.01\n",
      "22       2.46      3.28       607       619      3.17\n",
      "23       3.32      3.37       619       558      3.01\n",
      "24       3.61      3.61       700       721      3.72\n",
      "25       3.82      3.81       718       732      3.78\n",
      "26       2.64      2.40       580       538      2.51\n",
      "27       2.19      2.21       562       507      2.10\n",
      "28       3.34      3.58       683       648      3.21\n",
      "29       3.48      3.51       717       724      3.68\n",
      "..        ...       ...       ...       ...       ...\n",
      "75       3.62      3.51       684       609      3.48\n",
      "76       2.92      3.17       564       591      3.09\n",
      "77       2.81      3.20       554       509      3.14\n",
      "78       3.11      3.41       685       694      3.28\n",
      "79       3.28      3.29       671       609      3.41\n",
      "80       2.70      3.17       571       503      3.02\n",
      "81       2.62      3.12       582       591      2.97\n",
      "82       3.72      3.71       621       589      4.00\n",
      "83       3.42      3.50       651       642      3.34\n",
      "84       3.51      3.34       673       681      3.28\n",
      "85       3.28      3.48       651       640      3.32\n",
      "86       3.42      3.44       672       607      3.51\n",
      "87       3.90      3.59       591       587      3.68\n",
      "88       3.12      3.28       582       612      3.07\n",
      "89       2.83      3.00       609       555      2.78\n",
      "90       2.09      3.42       554       480      3.68\n",
      "91       3.17      3.41       612       590      3.30\n",
      "92       3.28      3.49       628       580      3.34\n",
      "93       3.02      3.28       567       602      3.17\n",
      "94       3.42      3.17       619       623      3.07\n",
      "95       3.06      3.24       691       683      3.19\n",
      "96       2.76      2.34       564       549      2.15\n",
      "97       3.19      3.28       650       684      3.11\n",
      "98       2.23      2.29       551       554      2.17\n",
      "99       2.48      2.08       568       541      2.14\n",
      "100      3.76      3.64       605       590      3.74\n",
      "101      3.49      3.42       692       683      3.27\n",
      "102      3.07      3.25       680       692      3.19\n",
      "103      2.19      2.76       617       503      2.98\n",
      "104      3.46      3.41       516       528      3.28\n",
      "\n",
      "[105 rows x 5 columns]\n"
     ]
    }
   ],
   "source": [
    "\n",
    "cd=df[['high_GPA','univ_GPA','math_SAT','verb_SAT','comp_GPA']]\n",
    "print(cd)"
   ]
  },
  {
   "cell_type": "code",
   "execution_count": 5,
   "metadata": {
    "collapsed": false
   },
   "outputs": [
    {
     "data": {
      "text/plain": [
       "6      2.82\n",
       "10     3.48\n",
       "11     2.14\n",
       "13     3.46\n",
       "28     3.34\n",
       "30     3.56\n",
       "31     3.81\n",
       "46     2.54\n",
       "49     3.34\n",
       "59     2.89\n",
       "69     3.41\n",
       "73     3.21\n",
       "78     3.11\n",
       "79     3.28\n",
       "82     3.72\n",
       "88     3.12\n",
       "95     3.06\n",
       "98     2.23\n",
       "101    3.49\n",
       "103    2.19\n",
       "Name: high_GPA, dtype: float64"
      ]
     },
     "execution_count": 5,
     "metadata": {},
     "output_type": "execute_result"
    }
   ],
   "source": [
    "ms=np.random.rand(len(df))<0.8\n",
    "train=cd[ms]\n",
    "test=cd[~ms]\n",
    "test.high_GPA"
   ]
  },
  {
   "cell_type": "code",
   "execution_count": 7,
   "metadata": {
    "collapsed": false
   },
   "outputs": [
    {
     "name": "stdout",
     "output_type": "stream",
     "text": [
      "intercept: 0.7388532461723236\n",
      "coeficient: [ 6.21052100e-02 -8.56818260e-04  5.81197635e-04  7.75943450e-01]\n"
     ]
    }
   ],
   "source": [
    "from sklearn import linear_model\n",
    "reg=linear_model.LinearRegression()\n",
    "x=np.asanyarray(train[['high_GPA','math_SAT','verb_SAT','comp_GPA']])\n",
    "y=np.asanyarray(train['univ_GPA'])\n",
    "\n",
    "reg.fit(x,y)\n",
    "\n",
    "print(\"intercept:\",reg.intercept_)\n",
    "print(\"coeficient:\",reg.coef_)"
   ]
  },
  {
   "cell_type": "code",
   "execution_count": 8,
   "metadata": {
    "collapsed": true
   },
   "outputs": [],
   "source": [
    "y_hat=reg.predict(test[['high_GPA','math_SAT','verb_SAT','comp_GPA']])\n",
    "x=np.asanyarray(test[['high_GPA','math_SAT','verb_SAT','comp_GPA']])\n",
    "y=np.asanyarray(test['univ_GPA'])\n"
   ]
  },
  {
   "cell_type": "code",
   "execution_count": 12,
   "metadata": {
    "collapsed": false
   },
   "outputs": [
    {
     "name": "stdout",
     "output_type": "stream",
     "text": [
      "Residual sum of squares: 0.04\n",
      "r2_ score: 0.82\n",
      "Variance score: 0.82\n"
     ]
    }
   ],
   "source": [
    "from sklearn.metrics import r2_score\n",
    "print(\"Residual sum of squares: %.2f\"\n",
    "      % np.mean((y_hat - y) ** 2))\n",
    "print('r2_ score: %.2f' % r2_score(y, y_hat))\n",
    "# Explained variance score: 1 is perfect prediction\n",
    "print('Variance score: %.2f' % reg.score(x,y))"
   ]
  }
 ],
 "metadata": {
  "kernelspec": {
   "display_name": "Python 3",
   "language": "python",
   "name": "python3"
  },
  "language_info": {
   "codemirror_mode": {
    "name": "ipython",
    "version": 3
   },
   "file_extension": ".py",
   "mimetype": "text/x-python",
   "name": "python",
   "nbconvert_exporter": "python",
   "pygments_lexer": "ipython3",
   "version": "3.5.2"
  },
  "widgets": {
   "state": {},
   "version": "1.1.2"
  }
 },
 "nbformat": 4,
 "nbformat_minor": 2
}
