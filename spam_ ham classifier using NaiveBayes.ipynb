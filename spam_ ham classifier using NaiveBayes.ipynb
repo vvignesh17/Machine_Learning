{
 "cells": [
  {
   "cell_type": "code",
   "execution_count": 1,
   "metadata": {},
   "outputs": [],
   "source": [
    "import os\n",
    "import io\n",
    "import numpy\n",
    "from pandas import DataFrame\n",
    "from sklearn.feature_extraction.text import CountVectorizer\n",
    "from sklearn.naive_bayes import MultinomialNB\n"
   ]
  },
  {
   "cell_type": "code",
   "execution_count": 2,
   "metadata": {},
   "outputs": [],
   "source": [
    "def readFiles(path):\n",
    "    for root,dirname,filenames in os.walk(path):\n",
    "        for filename in filenames:\n",
    "            path=os.path.join(root,filename)\n",
    "            inBody=False\n",
    "            lines=[]\n",
    "            f=io.open(path,'r',encoding='latin1')\n",
    "            for line in f:\n",
    "                if(inBody):\n",
    "                    lines.append(line)\n",
    "                elif(line=='\\n'):\n",
    "                    inBody=True\n",
    "            f.close()\n",
    "            message='\\n'.join(lines)\n",
    "            yield path,message"
   ]
  },
  {
   "cell_type": "code",
   "execution_count": 10,
   "metadata": {},
   "outputs": [
    {
     "name": "stderr",
     "output_type": "stream",
     "text": [
      "C:\\Users\\Acer\\Anaconda3\\lib\\site-packages\\pandas\\core\\frame.py:6211: FutureWarning: Sorting because non-concatenation axis is not aligned. A future version\n",
      "of pandas will change to not sort by default.\n",
      "\n",
      "To accept the future behavior, pass 'sort=False'.\n",
      "\n",
      "To retain the current behavior and silence the warning, pass 'sort=True'.\n",
      "\n",
      "  sort=sort)\n"
     ]
    },
    {
     "data": {
      "text/html": [
       "<div>\n",
       "<style scoped>\n",
       "    .dataframe tbody tr th:only-of-type {\n",
       "        vertical-align: middle;\n",
       "    }\n",
       "\n",
       "    .dataframe tbody tr th {\n",
       "        vertical-align: top;\n",
       "    }\n",
       "\n",
       "    .dataframe thead th {\n",
       "        text-align: right;\n",
       "    }\n",
       "</style>\n",
       "<table border=\"1\" class=\"dataframe\">\n",
       "  <thead>\n",
       "    <tr style=\"text-align: right;\">\n",
       "      <th></th>\n",
       "      <th>class</th>\n",
       "      <th>message</th>\n",
       "    </tr>\n",
       "  </thead>\n",
       "  <tbody>\n",
       "    <tr>\n",
       "      <th>E:\\DataScience-Python3\\emails\\spam\\00001.7848dde101aa985090474a91ec93fcf0</th>\n",
       "      <td>spam</td>\n",
       "      <td>&lt;!DOCTYPE HTML PUBLIC \"-//W3C//DTD HTML 4.0 Tr...</td>\n",
       "    </tr>\n",
       "    <tr>\n",
       "      <th>E:\\DataScience-Python3\\emails\\spam\\00002.d94f1b97e48ed3b553b3508d116e6a09</th>\n",
       "      <td>spam</td>\n",
       "      <td>1) Fight The Risk of Cancer!\\n\\nhttp://www.adc...</td>\n",
       "    </tr>\n",
       "    <tr>\n",
       "      <th>E:\\DataScience-Python3\\emails\\spam\\00003.2ee33bc6eacdb11f38d052c44819ba6c</th>\n",
       "      <td>spam</td>\n",
       "      <td>1) Fight The Risk of Cancer!\\n\\nhttp://www.adc...</td>\n",
       "    </tr>\n",
       "    <tr>\n",
       "      <th>E:\\DataScience-Python3\\emails\\spam\\00004.eac8de8d759b7e74154f142194282724</th>\n",
       "      <td>spam</td>\n",
       "      <td>##############################################...</td>\n",
       "    </tr>\n",
       "    <tr>\n",
       "      <th>E:\\DataScience-Python3\\emails\\spam\\00005.57696a39d7d84318ce497886896bf90d</th>\n",
       "      <td>spam</td>\n",
       "      <td>I thought you might like these:\\n\\n1) Slim Dow...</td>\n",
       "    </tr>\n",
       "    <tr>\n",
       "      <th>E:\\DataScience-Python3\\emails\\spam\\00006.5ab5620d3d7c6c0db76234556a16f6c1</th>\n",
       "      <td>spam</td>\n",
       "      <td>A POWERHOUSE GIFTING PROGRAM You Don't Want To...</td>\n",
       "    </tr>\n",
       "    <tr>\n",
       "      <th>E:\\DataScience-Python3\\emails\\spam\\00007.d8521faf753ff9ee989122f6816f87d7</th>\n",
       "      <td>spam</td>\n",
       "      <td>Help wanted.  We are a 14 year old fortune 500...</td>\n",
       "    </tr>\n",
       "    <tr>\n",
       "      <th>E:\\DataScience-Python3\\emails\\spam\\00008.dfd941deb10f5eed78b1594b131c9266</th>\n",
       "      <td>spam</td>\n",
       "      <td>&lt;html&gt;\\n\\n&lt;head&gt;\\n\\n&lt;title&gt;ReliaQuote - Save U...</td>\n",
       "    </tr>\n",
       "    <tr>\n",
       "      <th>E:\\DataScience-Python3\\emails\\spam\\00009.027bf6e0b0c4ab34db3ce0ea4bf2edab</th>\n",
       "      <td>spam</td>\n",
       "      <td>TIRED OF THE BULL OUT THERE?\\n\\nWant To Stop L...</td>\n",
       "    </tr>\n",
       "    <tr>\n",
       "      <th>E:\\DataScience-Python3\\emails\\spam\\00010.445affef4c70feec58f9198cfbc22997</th>\n",
       "      <td>spam</td>\n",
       "      <td>Dear ricardo1 ,\\n\\n\\n\\n&lt;html&gt;\\n\\n&lt;body&gt;\\n\\n&lt;ce...</td>\n",
       "    </tr>\n",
       "  </tbody>\n",
       "</table>\n",
       "</div>"
      ],
      "text/plain": [
       "                                                   class  \\\n",
       "E:\\DataScience-Python3\\emails\\spam\\00001.7848dd...  spam   \n",
       "E:\\DataScience-Python3\\emails\\spam\\00002.d94f1b...  spam   \n",
       "E:\\DataScience-Python3\\emails\\spam\\00003.2ee33b...  spam   \n",
       "E:\\DataScience-Python3\\emails\\spam\\00004.eac8de...  spam   \n",
       "E:\\DataScience-Python3\\emails\\spam\\00005.57696a...  spam   \n",
       "E:\\DataScience-Python3\\emails\\spam\\00006.5ab562...  spam   \n",
       "E:\\DataScience-Python3\\emails\\spam\\00007.d8521f...  spam   \n",
       "E:\\DataScience-Python3\\emails\\spam\\00008.dfd941...  spam   \n",
       "E:\\DataScience-Python3\\emails\\spam\\00009.027bf6...  spam   \n",
       "E:\\DataScience-Python3\\emails\\spam\\00010.445aff...  spam   \n",
       "\n",
       "                                                                                              message  \n",
       "E:\\DataScience-Python3\\emails\\spam\\00001.7848dd...  <!DOCTYPE HTML PUBLIC \"-//W3C//DTD HTML 4.0 Tr...  \n",
       "E:\\DataScience-Python3\\emails\\spam\\00002.d94f1b...  1) Fight The Risk of Cancer!\\n\\nhttp://www.adc...  \n",
       "E:\\DataScience-Python3\\emails\\spam\\00003.2ee33b...  1) Fight The Risk of Cancer!\\n\\nhttp://www.adc...  \n",
       "E:\\DataScience-Python3\\emails\\spam\\00004.eac8de...  ##############################################...  \n",
       "E:\\DataScience-Python3\\emails\\spam\\00005.57696a...  I thought you might like these:\\n\\n1) Slim Dow...  \n",
       "E:\\DataScience-Python3\\emails\\spam\\00006.5ab562...  A POWERHOUSE GIFTING PROGRAM You Don't Want To...  \n",
       "E:\\DataScience-Python3\\emails\\spam\\00007.d8521f...  Help wanted.  We are a 14 year old fortune 500...  \n",
       "E:\\DataScience-Python3\\emails\\spam\\00008.dfd941...  <html>\\n\\n<head>\\n\\n<title>ReliaQuote - Save U...  \n",
       "E:\\DataScience-Python3\\emails\\spam\\00009.027bf6...  TIRED OF THE BULL OUT THERE?\\n\\nWant To Stop L...  \n",
       "E:\\DataScience-Python3\\emails\\spam\\00010.445aff...  Dear ricardo1 ,\\n\\n\\n\\n<html>\\n\\n<body>\\n\\n<ce...  "
      ]
     },
     "execution_count": 10,
     "metadata": {},
     "output_type": "execute_result"
    }
   ],
   "source": [
    "def datadir(path,classfication):\n",
    "    rows=[]\n",
    "    index=[]\n",
    "    for filename,message in readFiles(path):\n",
    "        rows.append({'message':message,'class':classfication})\n",
    "        index.append(filename)\n",
    "    return DataFrame(rows,index=index)\n",
    "\n",
    "data=DataFrame({'message':[],'class':[]})\n",
    "data = data.append(datadir('E:\\DataScience-Python3\\emails\\spam', 'spam'))\n",
    "data = data.append(datadir('E:\\DataScience-Python3\\emails\\ham', 'ham'))\n",
    "data.head(10)"
   ]
  },
  {
   "cell_type": "code",
   "execution_count": 4,
   "metadata": {},
   "outputs": [
    {
     "data": {
      "text/plain": [
       "MultinomialNB(alpha=1.0, class_prior=None, fit_prior=True)"
      ]
     },
     "execution_count": 4,
     "metadata": {},
     "output_type": "execute_result"
    }
   ],
   "source": [
    "vectorizer = CountVectorizer()\n",
    "counts = vectorizer.fit_transform(data['message'].values)\n",
    "\n",
    "classifier = MultinomialNB()\n",
    "targets = data['class'].values\n",
    "classifier.fit(counts, targets)"
   ]
  },
  {
   "cell_type": "code",
   "execution_count": 13,
   "metadata": {},
   "outputs": [
    {
     "data": {
      "text/plain": [
       "array(['ham'], dtype='<U4')"
      ]
     },
     "execution_count": 13,
     "metadata": {},
     "output_type": "execute_result"
    }
   ],
   "source": [
    "example=[\"Now Manage your App, Website, and Email All Under One Roof\\n\"]\n",
    "example_counts = vectorizer.transform(example)\n",
    "predictions = classifier.predict(example_counts)\n",
    "predictions"
   ]
  },
  {
   "cell_type": "code",
   "execution_count": null,
   "metadata": {},
   "outputs": [],
   "source": []
  },
  {
   "cell_type": "code",
   "execution_count": null,
   "metadata": {},
   "outputs": [],
   "source": []
  }
 ],
 "metadata": {
  "kernelspec": {
   "display_name": "Python 3",
   "language": "python",
   "name": "python3"
  },
  "language_info": {
   "codemirror_mode": {
    "name": "ipython",
    "version": 3
   },
   "file_extension": ".py",
   "mimetype": "text/x-python",
   "name": "python",
   "nbconvert_exporter": "python",
   "pygments_lexer": "ipython3",
   "version": "3.7.1"
  }
 },
 "nbformat": 4,
 "nbformat_minor": 2
}
